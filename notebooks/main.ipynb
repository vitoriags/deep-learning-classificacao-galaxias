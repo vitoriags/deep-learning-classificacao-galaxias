{
 "cells": [
  {
   "cell_type": "code",
   "execution_count": null,
   "metadata": {
    "colab": {
     "base_uri": "https://localhost:8080/"
    },
    "executionInfo": {
     "elapsed": 1365,
     "status": "ok",
     "timestamp": 1746727881096,
     "user": {
      "displayName": "Vitória Gabriely",
      "userId": "06167407289846718722"
     },
     "user_tz": 180
    },
    "id": "0zDwH3Raj6xl",
    "outputId": "5126288c-9291-44e9-b9ac-c8ed23b7d230"
   },
   "outputs": [],
   "source": [
    "from google.colab import drive\n",
    "drive.mount('/content/drive')"
   ]
  },
  {
   "cell_type": "code",
   "execution_count": null,
   "metadata": {
    "colab": {
     "base_uri": "https://localhost:8080/"
    },
    "executionInfo": {
     "elapsed": 60,
     "status": "ok",
     "timestamp": 1636501996891,
     "user": {
      "displayName": "Caio Santiago",
      "photoUrl": "https://lh3.googleusercontent.com/a/default-user=s64",
      "userId": "10287316381244162480"
     },
     "user_tz": 180
    },
    "id": "L7eiMmpLmDKi",
    "outputId": "696d08b1-71ae-477d-d010-8751f6824c8e"
   },
   "outputs": [],
   "source": [
    "gpu_info = !nvidia-smi\n",
    "gpu_info = '\\n'.join(gpu_info)\n",
    "if gpu_info.find('failed') >= 0:\n",
    "  print('Not connected to a GPU')\n",
    "else:\n",
    "  print(gpu_info)"
   ]
  },
  {
   "cell_type": "code",
   "execution_count": null,
   "metadata": {
    "id": "1pRNKNNfkFXG"
   },
   "outputs": [],
   "source": [
    "import tensorflow as tf\n",
    "from tensorflow import keras\n",
    "from glob import glob\n",
    "import os\n",
    "import time\n",
    "import cv2\n",
    "import pandas as pd\n",
    "import numpy as np\n",
    "import random\n",
    "import zipfile\n",
    "import sys\n",
    "import shutil\n",
    "import sklearn.metrics as metrics\n",
    "from keras.callbacks import ModelCheckpoint"
   ]
  },
  {
   "cell_type": "code",
   "execution_count": null,
   "metadata": {
    "colab": {
     "base_uri": "https://localhost:8080/"
    },
    "executionInfo": {
     "elapsed": 140542,
     "status": "ok",
     "timestamp": 1636502140810,
     "user": {
      "displayName": "Caio Santiago",
      "photoUrl": "https://lh3.googleusercontent.com/a/default-user=s64",
      "userId": "10287316381244162480"
     },
     "user_tz": 180
    },
    "id": "qx10hSuwkFSx",
    "outputId": "88eae507-4ea5-44f4-aec1-2d886e277081"
   },
   "outputs": [],
   "source": [
    "import zipfile\n",
    "# imagens originais\n",
    "!unzip 'D:\\Vitoria\\Documentos\\galaxyzoo\\images\\originais.zip'\n",
    "\n",
    "# imagens segmentadas\n",
    "# !unzip '/content/drive/MyDrive/projetoGalaxy/imagens/segmentadas.zip'"
   ]
  },
  {
   "cell_type": "markdown",
   "metadata": {
    "id": "IOGTY_ZZmHtV"
   },
   "source": [
    "# ***Funções***"
   ]
  },
  {
   "cell_type": "code",
   "execution_count": null,
   "metadata": {
    "id": "VYQ8hKSyiZhr"
   },
   "outputs": [],
   "source": [
    "# importando script das funções\n",
    "sys.path.append('/content/drive/MyDrive/projetoGalaxy')\n",
    "from funcoes import *"
   ]
  },
  {
   "cell_type": "markdown",
   "metadata": {
    "id": "jR1kvN6Z64q0"
   },
   "source": [
    "# ***Mover as pastas (test | train | validation) para fora da pasta (originais ou segmentadas)***"
   ]
  },
  {
   "cell_type": "code",
   "execution_count": null,
   "metadata": {
    "id": "m5Jp5pBUfVRD"
   },
   "outputs": [],
   "source": [
    "moverpastas('originais')\n",
    "# moverpastas('segmentadas')"
   ]
  },
  {
   "cell_type": "markdown",
   "metadata": {
    "id": "teLWmT-0mLy3"
   },
   "source": [
    "# ***Pré-Processamento***"
   ]
  },
  {
   "cell_type": "code",
   "execution_count": null,
   "metadata": {
    "colab": {
     "base_uri": "https://localhost:8080/",
     "height": 520
    },
    "executionInfo": {
     "elapsed": 1565,
     "status": "ok",
     "timestamp": 1636502143001,
     "user": {
      "displayName": "Caio Santiago",
      "photoUrl": "https://lh3.googleusercontent.com/a/default-user=s64",
      "userId": "10287316381244162480"
     },
     "user_tz": 180
    },
    "id": "73O2hmYfkFE0",
    "outputId": "63e3ca6d-2384-4f53-bb48-a16fba0a4480"
   },
   "outputs": [],
   "source": [
    "# abrindo dataframe de test\n",
    "testdf = pd.read_csv(\"/content/drive/MyDrive/projetoGalaxy/tabelatest.csv\", sep=',')\n",
    "\n",
    "colunas = ['images', 'dr7objid', 'gz2_class', 'asset_id']\n",
    "testdf = testdf[colunas]\n",
    "testdf.head(15)"
   ]
  },
  {
   "cell_type": "code",
   "execution_count": null,
   "metadata": {
    "colab": {
     "base_uri": "https://localhost:8080/"
    },
    "executionInfo": {
     "elapsed": 96,
     "status": "ok",
     "timestamp": 1636502143005,
     "user": {
      "displayName": "Caio Santiago",
      "photoUrl": "https://lh3.googleusercontent.com/a/default-user=s64",
      "userId": "10287316381244162480"
     },
     "user_tz": 180
    },
    "id": "ZEqzdl_6kFD2",
    "outputId": "baae2b9a-71aa-4005-9a53-e35e39820c98"
   },
   "outputs": [],
   "source": [
    "RotuloImagensTest = list(testdf['gz2_class'].map(lambda nome: int(nome)))\n",
    "print(RotuloImagensTest)"
   ]
  },
  {
   "cell_type": "markdown",
   "metadata": {
    "id": "Jexn03oxk7uP"
   },
   "source": [
    "***Contagem de imagens por pasta e rótulo***"
   ]
  },
  {
   "cell_type": "code",
   "execution_count": null,
   "metadata": {
    "colab": {
     "base_uri": "https://localhost:8080/"
    },
    "executionInfo": {
     "elapsed": 77,
     "status": "ok",
     "timestamp": 1636502143008,
     "user": {
      "displayName": "Caio Santiago",
      "photoUrl": "https://lh3.googleusercontent.com/a/default-user=s64",
      "userId": "10287316381244162480"
     },
     "user_tz": 180
    },
    "id": "yLsENGHGkfa7",
    "outputId": "eb423258-deb7-4e77-c23f-dcc79db34f88"
   },
   "outputs": [],
   "source": [
    "contagemimagens(RotuloImagensTest)"
   ]
  },
  {
   "cell_type": "code",
   "execution_count": null,
   "metadata": {
    "colab": {
     "base_uri": "https://localhost:8080/"
    },
    "executionInfo": {
     "elapsed": 15616,
     "status": "ok",
     "timestamp": 1636502158589,
     "user": {
      "displayName": "Caio Santiago",
      "photoUrl": "https://lh3.googleusercontent.com/a/default-user=s64",
      "userId": "10287316381244162480"
     },
     "user_tz": 180
    },
    "id": "_vVkuSNbk8X5",
    "outputId": "96764dd2-de1f-40c5-f54d-a7fc8198fa9f"
   },
   "outputs": [],
   "source": [
    "directory_train = 'train'\n",
    "directory_validation = 'validation'\n",
    "directory_test = 'test'\n",
    "\n",
    "# ResNet152V2: 224 || InceptionResNetV2: 299 || Inception v3: 299 || Alexnet: 227 || MobileNetV2: 424 || AttentionResNet56: 224 || AttentionResNet92: 224 || GoogLenet: 224 || CoAtNet4: 224\n",
    "train_ds = train_test_validation_split(directory_train, 227)\n",
    "val_ds = train_test_validation_split(directory_validation, 227)\n",
    "test_ds = train_test_validation_split(directory_test, 227)"
   ]
  },
  {
   "cell_type": "markdown",
   "metadata": {
    "id": "XJnd7q4Ek_pt"
   },
   "source": [
    "# ***Modelos***"
   ]
  },
  {
   "cell_type": "code",
   "execution_count": null,
   "metadata": {
    "id": "Y6OQXZXrk96K"
   },
   "outputs": [],
   "source": [
    "# importando script dos modelos\n",
    "sys.path.append('/content/drive/MyDrive/projetoGalaxy')\n",
    "from models import *\n",
    "\n",
    "\n",
    "# importando script do CoAtNet4\n",
    "sys.path.append('/content/drive/MyDrive/projetoGalaxy/keras_cv_attention_models/attention_layers')\n",
    "from __init__ import *"
   ]
  },
  {
   "cell_type": "markdown",
   "metadata": {
    "id": "qwZs0opXlHB9"
   },
   "source": [
    "***ResNet152V2***"
   ]
  },
  {
   "cell_type": "code",
   "execution_count": null,
   "metadata": {
    "id": "fzot7eZ2lFBa"
   },
   "outputs": [],
   "source": [
    "model = ResNet152V2()"
   ]
  },
  {
   "cell_type": "markdown",
   "metadata": {
    "id": "pateBjitlKBD"
   },
   "source": [
    "***InceptionResNetV2***"
   ]
  },
  {
   "cell_type": "code",
   "execution_count": null,
   "metadata": {
    "id": "1cSmAjculM9X"
   },
   "outputs": [],
   "source": [
    "model = InceptionResNetV2()"
   ]
  },
  {
   "cell_type": "markdown",
   "metadata": {
    "id": "IhIjI5Qhm-Em"
   },
   "source": [
    "***InceptionV3***"
   ]
  },
  {
   "cell_type": "code",
   "execution_count": null,
   "metadata": {
    "id": "qbGuQnBEmyN_"
   },
   "outputs": [],
   "source": [
    "model = InceptionV3()"
   ]
  },
  {
   "cell_type": "markdown",
   "metadata": {
    "id": "EECDaSPgnCZA"
   },
   "source": [
    "***MobileNetV2***"
   ]
  },
  {
   "cell_type": "code",
   "execution_count": null,
   "metadata": {
    "id": "nwFoE-d4myEx"
   },
   "outputs": [],
   "source": [
    "model = MobileNetV2()"
   ]
  },
  {
   "cell_type": "markdown",
   "metadata": {
    "id": "n2z6-JxYnLLw"
   },
   "source": [
    "***Alexnet***"
   ]
  },
  {
   "cell_type": "code",
   "execution_count": null,
   "metadata": {
    "id": "crzeusTGmx7U"
   },
   "outputs": [],
   "source": [
    "model = Alexnet()"
   ]
  },
  {
   "cell_type": "markdown",
   "metadata": {
    "id": "KvIlNMy1nNgu"
   },
   "source": [
    "***AttentionResNet92***"
   ]
  },
  {
   "cell_type": "code",
   "execution_count": null,
   "metadata": {
    "id": "Q0POtw5wmxvD"
   },
   "outputs": [],
   "source": [
    "# model = AttentionResNet92()"
   ]
  },
  {
   "cell_type": "markdown",
   "metadata": {
    "id": "RQMgtSeznQtJ"
   },
   "source": [
    "***AttentionResNet56***"
   ]
  },
  {
   "cell_type": "code",
   "execution_count": null,
   "metadata": {
    "id": "TVg51IAcm5tv"
   },
   "outputs": [],
   "source": [
    "# model = AttentionResNet56()"
   ]
  },
  {
   "cell_type": "markdown",
   "metadata": {
    "id": "eqDISRbQ4BK6"
   },
   "source": [
    "***GoogLeNet***"
   ]
  },
  {
   "cell_type": "code",
   "execution_count": null,
   "metadata": {
    "id": "Tr2YISzFzPtL"
   },
   "outputs": [],
   "source": [
    "# model = GoogLeNet()"
   ]
  },
  {
   "cell_type": "markdown",
   "metadata": {
    "id": "nFNNCTfAxSlk"
   },
   "source": [
    "***CoAtNet4***"
   ]
  },
  {
   "cell_type": "code",
   "execution_count": null,
   "metadata": {
    "id": "dSzxJDbhxSDa"
   },
   "outputs": [],
   "source": [
    "# model = CoAtNet4()"
   ]
  },
  {
   "cell_type": "markdown",
   "metadata": {
    "id": "cUpJMV9wnaFA"
   },
   "source": [
    "# ***Treinamento do Modelo***"
   ]
  },
  {
   "cell_type": "code",
   "execution_count": null,
   "metadata": {
    "colab": {
     "base_uri": "https://localhost:8080/"
    },
    "executionInfo": {
     "elapsed": 49,
     "status": "ok",
     "timestamp": 1636502209424,
     "user": {
      "displayName": "Caio Santiago",
      "photoUrl": "https://lh3.googleusercontent.com/a/default-user=s64",
      "userId": "10287316381244162480"
     },
     "user_tz": 180
    },
    "id": "TbEaqZf_niuH",
    "outputId": "f6aee464-a528-4c21-c14f-46b8fb5117b2"
   },
   "outputs": [],
   "source": [
    "model.summary()"
   ]
  },
  {
   "cell_type": "code",
   "execution_count": null,
   "metadata": {
    "id": "HGDR5nyYODyA"
   },
   "outputs": [],
   "source": [
    "filepath = '/content/drive/MyDrive/projetoGalaxy/teste'\n",
    "\n",
    "callbacks = tf.keras.callbacks.ModelCheckpoint(\n",
    "    filepath,\n",
    "    monitor=\"val_accuracy\",\n",
    "    verbose=1,\n",
    "    save_best_only=True,\n",
    "    save_weights_only=False,\n",
    "    mode=\"max\",\n",
    "    save_freq=\"epoch\",\n",
    "    options=None,\n",
    "    # **kwargs\n",
    ")"
   ]
  },
  {
   "cell_type": "code",
   "execution_count": null,
   "metadata": {
    "id": "Jq5s3yNknnJq"
   },
   "outputs": [],
   "source": [
    "# define loss, metrics, optimizer\n",
    "model.compile(tf.keras.optimizers.Adam(learning_rate=0.0001), loss='categorical_crossentropy', metrics=['accuracy'])"
   ]
  },
  {
   "cell_type": "code",
   "execution_count": null,
   "metadata": {
    "colab": {
     "background_save": true,
     "base_uri": "https://localhost:8080/"
    },
    "executionInfo": {
     "elapsed": 11566395,
     "status": "ok",
     "timestamp": 1636515505638,
     "user": {
      "displayName": "Caio Santiago",
      "photoUrl": "https://lh3.googleusercontent.com/a/default-user=s64",
      "userId": "10287316381244162480"
     },
     "user_tz": 180
    },
    "id": "3Mwgo2w2npDF",
    "outputId": "573a388a-ddc1-49c3-f69c-d7ec996ce175"
   },
   "outputs": [],
   "source": [
    "# fits the model on batches with real-time data augmentation\n",
    "model.fit(train_ds, epochs=20, validation_data=val_ds, validation_freq=1, callbacks=callbacks)"
   ]
  },
  {
   "cell_type": "markdown",
   "metadata": {
    "id": "IojAedN9oBFL"
   },
   "source": [
    "# ***Gerenciar Modelos***"
   ]
  },
  {
   "cell_type": "markdown",
   "metadata": {
    "id": "LQ3__ka6oJfz"
   },
   "source": [
    "***Carregar Modelo***"
   ]
  },
  {
   "cell_type": "code",
   "execution_count": null,
   "metadata": {
    "colab": {
     "background_save": true
    },
    "id": "Tride_ERoDxQ"
   },
   "outputs": [],
   "source": [
    "model = keras.models.load_model('/content/drive/MyDrive/projetoGalaxy/teste')"
   ]
  },
  {
   "cell_type": "markdown",
   "metadata": {
    "id": "Bn_sIQFQns8s"
   },
   "source": [
    "# ***Méricas***"
   ]
  },
  {
   "cell_type": "code",
   "execution_count": null,
   "metadata": {
    "colab": {
     "base_uri": "https://localhost:8080/"
    },
    "id": "_R4RAmCdntlK",
    "outputId": "fd30fcff-7039-4be7-c937-091c589df896"
   },
   "outputs": [],
   "source": [
    "pred = model.predict(test_ds, batch_size = 5, verbose=1)"
   ]
  },
  {
   "cell_type": "code",
   "execution_count": null,
   "metadata": {
    "id": "AHF3Qgztnv8X"
   },
   "outputs": [],
   "source": [
    "pred[:10]"
   ]
  },
  {
   "cell_type": "code",
   "execution_count": null,
   "metadata": {
    "id": "hZrjIE6onwvW"
   },
   "outputs": [],
   "source": [
    "predicao = np.argmax(pred, axis=-1)\n",
    "for x in predicao[:10]:\n",
    "  print(x)"
   ]
  },
  {
   "cell_type": "code",
   "execution_count": null,
   "metadata": {
    "id": "RlxWGMw0nwoF"
   },
   "outputs": [],
   "source": [
    "print(metrics.confusion_matrix(RotuloImagensTest, predicao))"
   ]
  },
  {
   "cell_type": "code",
   "execution_count": null,
   "metadata": {
    "id": "9ewRV7BNnwfY"
   },
   "outputs": [],
   "source": [
    "print(metrics.classification_report(RotuloImagensTest, predicao))"
   ]
  },
  {
   "cell_type": "code",
   "execution_count": null,
   "metadata": {
    "id": "fMBsxZZ4nwVq"
   },
   "outputs": [],
   "source": [
    "print(metrics.roc_auc_score(RotuloImagensTest, predicao))"
   ]
  },
  {
   "cell_type": "code",
   "execution_count": null,
   "metadata": {
    "id": "ysX7nFRin5dx"
   },
   "outputs": [],
   "source": [
    "print(metrics.accuracy_score(RotuloImagensTest, predicao))"
   ]
  },
  {
   "cell_type": "code",
   "execution_count": null,
   "metadata": {
    "id": "Am-DFYmGn5Yx"
   },
   "outputs": [],
   "source": [
    "print(metrics.f1_score(RotuloImagensTest, predicao))"
   ]
  },
  {
   "cell_type": "code",
   "execution_count": null,
   "metadata": {
    "id": "FBdPSFBdn5X4"
   },
   "outputs": [],
   "source": [
    "print(metrics.recall_score(RotuloImagensTest, predicao))"
   ]
  },
  {
   "cell_type": "markdown",
   "metadata": {
    "id": "qg7r5OfqVwhO"
   },
   "source": [
    "# ***NOTES***"
   ]
  },
  {
   "cell_type": "markdown",
   "metadata": {
    "id": "26D05YxaVzdb"
   },
   "source": [
    "*   (X) MobileNetV2\n",
    "*   (X) ResNet152V2\n",
    "*   (X) Alexnet\n",
    "*   (X) InceptionV3\n",
    "*   (X) InceptionResNetV2\n",
    "*   (X) AttentionResNet92\n",
    "*   (X) AttentionResNet56\n",
    "\n",
    "*   ( ) GoogLeNetX1\n",
    "*   ( ) GoogLeNetX2\n",
    "*   ( ) GoogLeNetX3\n",
    "*   ( ) CoAtNet4\n"
   ]
  }
 ],
 "metadata": {
  "accelerator": "GPU",
  "colab": {
   "provenance": []
  },
  "kernelspec": {
   "display_name": "Python 3",
   "name": "python3"
  },
  "language_info": {
   "codemirror_mode": {
    "name": "ipython",
    "version": 3
   },
   "file_extension": ".py",
   "mimetype": "text/x-python",
   "name": "python",
   "nbconvert_exporter": "python",
   "pygments_lexer": "ipython3",
   "version": "3.11.5"
  }
 },
 "nbformat": 4,
 "nbformat_minor": 0
}
